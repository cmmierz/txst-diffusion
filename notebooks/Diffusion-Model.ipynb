{
 "cells": [
  {
   "cell_type": "markdown",
   "id": "d91929fc-d95b-48c7-828b-b284e1288b9a",
   "metadata": {},
   "source": [
    "# A 1D diffusion model"
   ]
  },
  {
   "cell_type": "markdown",
   "id": "2f0aa427-7b08-49e9-abf0-8d9d38c19148",
   "metadata": {},
   "source": [
    "Here we develop a one-dimensional model of diffusion.\n",
    "It assumes a constant diffusivity. \n",
    "It uses a regular grid.\n",
    "It has fixed boundary conditions."
   ]
  },
  {
   "cell_type": "markdown",
   "id": "aeb0521a-2429-4bd1-912c-eda5f98e20c2",
   "metadata": {},
   "source": [
    "The diffusion equation:\n",
    "\n",
    "$$ \\frac{\\partial C}{\\partial t} = D\\frac{\\partial^2 C}{\\partial x^2} $$\n",
    "\n",
    "The discretized version of the diffusion equation that we'll solve with our model:\n",
    "\n",
    "$$ C^{t+1}_x = C^t_x + {D \\Delta t \\over \\Delta x^2} (C^t_{x+1} - 2C^t_x + C^t_{x-1}) $$\n",
    "\n",
    "This is the explicit FTCS scheme as described in Slingerland and Kump (2011). (Or see Wikipedia.)"
   ]
  },
  {
   "cell_type": "markdown",
   "id": "d7202bd3-050c-4dd8-b2f2-47c22748aaa6",
   "metadata": {},
   "source": [
    "FTCS means forward in time, centered in space"
   ]
  },
  {
   "cell_type": "markdown",
   "id": "5a6f8b83-8889-47b9-bcfa-f65aa1541ff1",
   "metadata": {},
   "source": [
    "We will use two libraries, Numpy (for arrays) and Matplotlib (for plotting) that aren't part of the base Python distribution."
   ]
  },
  {
   "cell_type": "code",
   "execution_count": null,
   "id": "95720156-987f-4b97-bae6-19e5dbabaf22",
   "metadata": {},
   "outputs": [],
   "source": [
    "import numpy as np\n",
    "import matplotlib.pyplot as plt "
   ]
  },
  {
   "cell_type": "markdown",
   "id": "dfd5d0bb-512d-468e-8001-2f1f13b2f09d",
   "metadata": {},
   "source": [
    "Set two fixed model parameters, the diffusivity and the size of the model domain."
   ]
  },
  {
   "cell_type": "code",
   "execution_count": null,
   "id": "67866341-97be-4f03-9ce1-48f35e4b0c19",
   "metadata": {},
   "outputs": [],
   "source": [
    "D = 100\n",
    "Lx = 300"
   ]
  },
  {
   "cell_type": "markdown",
   "id": "cf8db57e-1955-4e5e-b797-51689338eec1",
   "metadata": {},
   "source": [
    "D is diffusivity and Lx is domain size"
   ]
  },
  {
   "cell_type": "markdown",
   "id": "34525156-6ddb-4824-b0d2-6c406d9c1a0d",
   "metadata": {},
   "source": [
    "Next, set up the model grid using the NumPy array."
   ]
  },
  {
   "cell_type": "code",
   "execution_count": null,
   "id": "18171528-b970-4ad2-bd6f-ace52d85b541",
   "metadata": {},
   "outputs": [],
   "source": [
    "dx = 0.5\n",
    "x = np.arange(start=0, stop=Lx, step=dx)\n",
    "nx = len(x)"
   ]
  },
  {
   "cell_type": "code",
   "execution_count": null,
   "id": "3f27ded7-7950-481a-b629-2c79aad3f367",
   "metadata": {},
   "outputs": [],
   "source": [
    "whos"
   ]
  },
  {
   "cell_type": "markdown",
   "id": "813e518d-fbaf-4770-826a-b8fab9523b99",
   "metadata": {},
   "source": [
    "dx is the grid spacing, x is and array from 0 up 299.5 (well 300 ish) at an interval of 0.5, and nx is telling you how many values in the elements in the array which should be 600"
   ]
  },
  {
   "cell_type": "markdown",
   "id": "57fab882-748c-4327-9d32-7e067eb7f52f",
   "metadata": {},
   "source": [
    "The whos command tells you what elements are available"
   ]
  },
  {
   "cell_type": "code",
   "execution_count": null,
   "id": "5df9ced0-a62a-42d7-9591-d3a49b25ccaf",
   "metadata": {},
   "outputs": [],
   "source": [
    "x"
   ]
  },
  {
   "cell_type": "markdown",
   "id": "0f802ff0-9904-4bc2-9f6c-0e01feb85d32",
   "metadata": {},
   "source": [
    "What if you want a subset of x? "
   ]
  },
  {
   "cell_type": "code",
   "execution_count": null,
   "id": "1fb8bc58-0385-4448-863d-06607f808b18",
   "metadata": {},
   "outputs": [],
   "source": [
    "x[0]"
   ]
  },
  {
   "cell_type": "markdown",
   "id": "db90e592-dce4-4458-abde-74358f806183",
   "metadata": {},
   "source": [
    "This is showing you that 0.0 is the first value of the numpy element of the array"
   ]
  },
  {
   "cell_type": "code",
   "execution_count": null,
   "id": "27ab4836-2e28-455d-866b-e3bfc7e0c3a0",
   "metadata": {},
   "outputs": [],
   "source": [
    "x[nx-1]"
   ]
  },
  {
   "cell_type": "markdown",
   "id": "8ddd894e-92ec-4a16-bd79-3ad3d783ce9b",
   "metadata": {},
   "source": [
    "This is showing the last element of the array "
   ]
  },
  {
   "cell_type": "code",
   "execution_count": null,
   "id": "a87136d5-a01a-455e-8297-ec0c30cb2d25",
   "metadata": {},
   "outputs": [],
   "source": [
    "x[-1]"
   ]
  },
  {
   "cell_type": "code",
   "execution_count": null,
   "id": "c139fbdb-f3c8-4e0c-8d48-e5503e5f940c",
   "metadata": {},
   "outputs": [],
   "source": [
    "x[0:5]"
   ]
  },
  {
   "cell_type": "markdown",
   "id": "8cf030b8-8e37-43ff-be36-4136b7caad17",
   "metadata": {},
   "source": [
    "This is showing the first 5 elements of the array"
   ]
  },
  {
   "cell_type": "markdown",
   "id": "a78cd5df-d857-4a2e-ac70-62b93de30a48",
   "metadata": {},
   "source": [
    "Set the initial concentration profile for the model. \n",
    "The concentration `C` is a step function with a high value on the left, a low value on the right, and the step at the center of the domain."
   ]
  },
  {
   "cell_type": "markdown",
   "id": "85c928c9-e200-47ce-909b-d0a8b67229ad",
   "metadata": {},
   "source": [
    "We ued the back tic (  `) on either side of C, it makes it into code "
   ]
  },
  {
   "cell_type": "code",
   "execution_count": null,
   "id": "7a79dafc-0beb-43c5-b0b6-15f9be463a74",
   "metadata": {},
   "outputs": [],
   "source": [
    "C = np.zeros_like(x)\n",
    "C_left = 500\n",
    "C_right = 0\n",
    "C[x <= Lx//2] = C_left\n",
    "C[x > Lx//2] = C_right"
   ]
  },
  {
   "cell_type": "markdown",
   "id": "6b8e5d48-3b80-4818-93ce-78d4aff33f66",
   "metadata": {},
   "source": [
    "Inside the numpy library there is a function called zeros_like which makes an array of zeros that is like another array, for this example we are using x, so now we are making C a 600 element array with floats that are filled with zeros. On the left side, we want C to be 500 and on the right side we want C to go down to 0. Then we are saying that C, for values of x (0 to 299.5) that are less than or equal to the domain length divided by 2 (which has 2 hashes for division to make sure it is an integer) or half the domain size will be equal to 500, then C for vavlues of x that are greater than half the domain length are equal to 0."
   ]
  },
  {
   "cell_type": "code",
   "execution_count": null,
   "id": "f8ad880a-6ae6-437f-b6b8-eb6079820e08",
   "metadata": {},
   "outputs": [],
   "source": [
    "C"
   ]
  },
  {
   "cell_type": "markdown",
   "id": "253c23d9-702f-4974-91f2-e68cfdfcd421",
   "metadata": {},
   "source": [
    "Plot the initial profile "
   ]
  },
  {
   "cell_type": "code",
   "execution_count": null,
   "id": "01491da9-8b8e-4205-aad8-6252fa70e456",
   "metadata": {},
   "outputs": [],
   "source": [
    "plt.figure()\n",
    "plt.plot(x, C, \"r\")\n",
    "plt.xlabel(\"x\")\n",
    "plt.ylabel(\"C\")\n",
    "plt.title(\"Initial concentration profile\")"
   ]
  },
  {
   "cell_type": "markdown",
   "id": "46dc1ce3-360f-4684-a56a-ea194db3826d",
   "metadata": {},
   "source": [
    "Now we are using the matplotlib function to create an initial concentration profile. The r in quotations is just saying the color of the line to be red"
   ]
  },
  {
   "cell_type": "markdown",
   "id": "c040b2a3-e5aa-40da-85d1-8446ee2a2ebb",
   "metadata": {},
   "source": [
    "Set the start time of the model and the number of time steps.\n",
    "Calculate a stable time stepfor the model using a stability criterion. "
   ]
  },
  {
   "cell_type": "code",
   "execution_count": null,
   "id": "8819baaa-e7c4-4795-b4cb-a17f79dee7c6",
   "metadata": {},
   "outputs": [],
   "source": [
    "time = 0 \n",
    "nt = 5000\n",
    "dt = 0.5 * (dx**2 / D)"
   ]
  },
  {
   "cell_type": "markdown",
   "id": "04895ab1-aa02-425d-8db2-03a05af91af1",
   "metadata": {},
   "source": [
    "nt is the number of time steps, the timestep itself is dt which is 0.5 times dx^2 divided by D"
   ]
  },
  {
   "cell_type": "code",
   "execution_count": null,
   "id": "6aea50d3-ae5b-4395-a890-a35711e55bcc",
   "metadata": {},
   "outputs": [],
   "source": [
    "dt"
   ]
  },
  {
   "cell_type": "code",
   "execution_count": null,
   "id": "c6dcf573-3d4a-48f8-ade9-cc9d15ba9eff",
   "metadata": {},
   "outputs": [],
   "source": [
    "z = 5"
   ]
  },
  {
   "cell_type": "code",
   "execution_count": null,
   "id": "c5f2ae72-ec54-4826-b745-c695acd35005",
   "metadata": {
    "scrolled": true
   },
   "outputs": [],
   "source": [
    "z = z + 5\n",
    "z"
   ]
  },
  {
   "cell_type": "code",
   "execution_count": null,
   "id": "4c11b96b-03c4-41cb-a0ad-ea60c40202f4",
   "metadata": {
    "scrolled": true
   },
   "outputs": [],
   "source": [
    "z += 5\n",
    "z"
   ]
  },
  {
   "cell_type": "markdown",
   "id": "b4e71965-4a43-48c6-8eb6-5a2479fb39de",
   "metadata": {},
   "source": [
    "Loop over the time steps of the model, solving the diffusion equation using the FTCS explicit scheme described above. \n",
    "The boundary conditions are fixed, so reset them at each time step."
   ]
  },
  {
   "cell_type": "code",
   "execution_count": null,
   "id": "e6b8eb92-5e6b-4560-9f5c-6fff1f9c1061",
   "metadata": {},
   "outputs": [],
   "source": [
    "for t in range(0, nt):\n",
    "    C += D * dt / dx**2 * (np.roll(C, -1) - 2*C + np.roll(C, 1))\n",
    "    C[0] = C_left\n",
    "    C[-1] = C_right"
   ]
  },
  {
   "cell_type": "markdown",
   "id": "adb42719-ffe9-444a-b505-1c6b510b36c7",
   "metadata": {},
   "source": [
    "brackets are for array indexing,\n",
    "parentheses are for grouping"
   ]
  },
  {
   "cell_type": "markdown",
   "id": "63946ee4-f519-4e30-9781-d4c8c51147a3",
   "metadata": {},
   "source": [
    "We move our model forward in time one step at a time. This is an example of a forloop (execute a statement or group of statements a set number of times), the loop counter is t which is intended to be current model time (you could also use an _ instead of t, but it is easier to see t) using the range function (built in function in python) (range from 0 to nt). This is how we step through the model with time"
   ]
  },
  {
   "cell_type": "markdown",
   "id": "c65517a1-8b24-41e7-9915-3c0eb0a6b699",
   "metadata": {},
   "source": [
    "The next line maps to the discretized version of the diffusion equation at the top of the page "
   ]
  },
  {
   "cell_type": "markdown",
   "id": "b006dfaf-4025-486d-85a2-09349686e3eb",
   "metadata": {},
   "source": [
    "C (concentration), the initial value of C plusequal the diffusivity time the timestep divided by gridspacing^2 times the center difference is the stuff in the parentheses at the end which you have a shift by 1 to the left and then there is a shift by 1 to the right minus 2 in the middle"
   ]
  },
  {
   "cell_type": "markdown",
   "id": "d43e46c1-bbef-498a-9030-e7d78a3230a3",
   "metadata": {},
   "source": [
    "You are not updating concentration in the expression, it is creating a copy of C shifted to the left and right "
   ]
  },
  {
   "cell_type": "markdown",
   "id": "8d6c0609-07d8-471a-8096-a7df0c72acaf",
   "metadata": {},
   "source": [
    "Plot the result. "
   ]
  },
  {
   "cell_type": "code",
   "execution_count": null,
   "id": "fffdf187-31cd-4862-b28d-fd5054aff999",
   "metadata": {},
   "outputs": [],
   "source": [
    "plt.figure()\n",
    "plt.plot(x, C, \"b\")\n",
    "plt.xlabel(\"x\")\n",
    "plt.ylabel(\"C\")\n",
    "plt.title(\"Final concentration profile\")"
   ]
  },
  {
   "cell_type": "markdown",
   "id": "b509fca5-f212-4c4b-819d-2fae42e4826b",
   "metadata": {},
   "source": [
    "The roll stuff, we are shifting to the left but there is nothing to the left, so we are just rolling over the value from the end to the beginning so that we have a zero there and we do not get a null value in the equation "
   ]
  },
  {
   "cell_type": "code",
   "execution_count": null,
   "id": "0fee553c-0422-4db0-8dfd-006f68de0635",
   "metadata": {},
   "outputs": [],
   "source": [
    "z = np.arange(5)\n",
    "z"
   ]
  },
  {
   "cell_type": "code",
   "execution_count": null,
   "id": "baa03a69-003d-4928-8423-0c7629cbd24a",
   "metadata": {},
   "outputs": [],
   "source": [
    "np.roll(z, -1)"
   ]
  },
  {
   "cell_type": "code",
   "execution_count": null,
   "id": "4f60a7f4-cc25-4f37-a512-5dd60d72b796",
   "metadata": {},
   "outputs": [],
   "source": [
    "np.roll(z, 1)"
   ]
  },
  {
   "cell_type": "code",
   "execution_count": null,
   "id": "e4907ee2-54b9-44cc-89ef-0b57dcbc5901",
   "metadata": {},
   "outputs": [],
   "source": [
    "for i in range(len(z)):\n",
    "    print(z[i] +1)"
   ]
  },
  {
   "cell_type": "markdown",
   "id": "bf034a74-1895-44f9-8974-fe5d3177c0f6",
   "metadata": {},
   "source": [
    "This is the same as "
   ]
  },
  {
   "cell_type": "code",
   "execution_count": null,
   "id": "581f6134-f29e-432d-9799-a676a41cc952",
   "metadata": {},
   "outputs": [],
   "source": [
    "z + 1"
   ]
  },
  {
   "cell_type": "markdown",
   "id": "20c0599a-b1ee-4642-ade8-c65026bd745d",
   "metadata": {},
   "source": [
    "The first is printing out the elements of the array while the second is showing the array. The array functions are just faster to do. Doing a loop (the first one) isnt the worst thing to do, just try to avoid it. "
   ]
  },
  {
   "cell_type": "code",
   "execution_count": null,
   "id": "d9009fad-ea79-46b9-a045-6b7d23cd3a62",
   "metadata": {},
   "outputs": [],
   "source": []
  }
 ],
 "metadata": {
  "kernelspec": {
   "display_name": "CSDMS",
   "language": "python",
   "name": "csdms"
  },
  "language_info": {
   "codemirror_mode": {
    "name": "ipython",
    "version": 3
   },
   "file_extension": ".py",
   "mimetype": "text/x-python",
   "name": "python",
   "nbconvert_exporter": "python",
   "pygments_lexer": "ipython3",
   "version": "3.12.7"
  }
 },
 "nbformat": 4,
 "nbformat_minor": 5
}
